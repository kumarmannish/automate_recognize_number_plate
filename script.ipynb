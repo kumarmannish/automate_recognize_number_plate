{
 "cells": [
  {
   "cell_type": "markdown",
   "source": [
    "# Setup"
   ],
   "metadata": {
    "collapsed": false
   },
   "id": "7e33b5c18ba63aed"
  },
  {
   "cell_type": "code",
   "execution_count": null,
   "id": "initial_id",
   "metadata": {
    "collapsed": true
   },
   "outputs": [],
   "source": [
    "!nvidia-smi"
   ]
  },
  {
   "cell_type": "markdown",
   "source": [
    "# Install YOLOv9"
   ],
   "metadata": {
    "collapsed": false
   },
   "id": "4848d45c0e75d0d2"
  },
  {
   "cell_type": "code",
   "outputs": [],
   "source": [
    "!git clone https://github.com/SkalskiP/yolov9.git\n",
    "from IPython import display\n",
    "display.clear_output()"
   ],
   "metadata": {
    "collapsed": false
   },
   "id": "c50ee6a50bd2e722"
  },
  {
   "cell_type": "code",
   "outputs": [],
   "source": [
    "!pip install -r ./yolov9/requirements.txt\n",
    "display.clear_output()"
   ],
   "metadata": {
    "collapsed": false
   },
   "id": "3f9d776e6d57f7f1"
  },
  {
   "cell_type": "markdown",
   "source": [
    "# Download Pre-trained Weights"
   ],
   "metadata": {
    "collapsed": false
   },
   "id": "71f5cf1c4a9b0534"
  },
  {
   "cell_type": "code",
   "outputs": [],
   "source": [
    "!wget -P ./yolov9 https://github.com/WongKinYiu/yolov9/releases/download/v0.1/yolov9-e.pt\n",
    "display.clear_output()"
   ],
   "metadata": {
    "collapsed": false
   },
   "id": "d7884a9f9416505",
   "execution_count": null
  },
  {
   "cell_type": "markdown",
   "source": [
    "# Detect classes from normal images"
   ],
   "metadata": {
    "collapsed": false
   },
   "id": "fa4b2248f01cb8c0"
  },
  {
   "cell_type": "code",
   "outputs": [],
   "source": [
    "!python ./yolov9/detect.py --weights ./weights/yolov9-e.pt --source googlestreet.jpg --device 0"
   ],
   "metadata": {
    "collapsed": false
   },
   "id": "1a48929ccc93cf8e"
  },
  {
   "cell_type": "markdown",
   "source": [
    "# Train the Pre-trained weights on License Plate"
   ],
   "metadata": {
    "collapsed": false
   },
   "id": "435a1811596919b5"
  },
  {
   "cell_type": "markdown",
   "source": [
    "* Change the classes number 80 to 1, yolov9.yaml which is in the 'yolov9/models/detect'\n",
    "* Copy the data.yaml from the dataset to the yolov9 folder\n",
    "* Copy the full dataset of 'car_license_plate' to yolov9"
   ],
   "metadata": {
    "collapsed": false
   },
   "id": "5b36dc4ec3ae2ada"
  },
  {
   "cell_type": "code",
   "outputs": [],
   "source": [
    "!python ./yolov9/train_dual.py --workers 8 --batch 4 --img 640 --epochs 50 --data ./yolov9/data.yaml --weights ./yolov9/yolov9-e.pt --cfg ./yolov9/models/detect/yolov9.yaml --hyp ./yolov9/data/hyps/hyp.scratch-high.yaml"
   ],
   "metadata": {
    "collapsed": false
   },
   "id": "8d45d8db4e9d30f7",
   "execution_count": null
  },
  {
   "cell_type": "markdown",
   "source": [
    "# Detect the vehicle's license plate through model on image"
   ],
   "metadata": {
    "collapsed": false
   },
   "id": "592e50efb38a1e62"
  },
  {
   "cell_type": "code",
   "outputs": [],
   "source": [
    "!python ./yolov9/detect.py --img 1280 --conf 0.2 --device 0 --weights ./weights/best.pt --source gray.jpg"
   ],
   "metadata": {
    "collapsed": false
   },
   "id": "f872d594c35e0bf",
   "execution_count": null
  },
  {
   "cell_type": "code",
   "outputs": [],
   "source": [
    "from IPython import display\n",
    "display.Image(filename=\"yolov9/runs/detect/exp/gray.jpg\", width=1000)"
   ],
   "metadata": {
    "collapsed": false
   },
   "id": "f0c9d78718baf2fb",
   "execution_count": null
  },
  {
   "cell_type": "markdown",
   "source": [
    "# Detect on the video"
   ],
   "metadata": {
    "collapsed": false
   },
   "id": "d18edbd8dde639a1"
  },
  {
   "cell_type": "code",
   "outputs": [],
   "source": [
    "!python ./yolov9/detect.py --img 1280 --conf 0.2 --device 0 --weights ./weights/best.pt --source vehicle_plate.mp4"
   ],
   "metadata": {
    "collapsed": false
   },
   "id": "e78203831dab8e8f",
   "execution_count": null
  },
  {
   "cell_type": "markdown",
   "source": [
    "# Recognize the Number Plate in the video and Process the OCR on that"
   ],
   "metadata": {
    "collapsed": false
   },
   "id": "d33b9f367157e8a9"
  },
  {
   "cell_type": "markdown",
   "source": [
    "* Copy the detect.py which is on GitHub and replace with the detect.py which is in the yolov9"
   ],
   "metadata": {
    "collapsed": false
   },
   "id": "4bc2453f15620a3d"
  },
  {
   "cell_type": "code",
   "outputs": [],
   "source": [
    "!python ./yolov9/detect.py --img 1280 --conf 0.25 --device 0 --weights ./weights/best.pt --source vehicle_plate.mp4"
   ],
   "metadata": {
    "collapsed": false
   },
   "id": "ad8af39aeccea84"
  }
 ],
 "metadata": {
  "kernelspec": {
   "display_name": "Python 3",
   "language": "python",
   "name": "python3"
  },
  "language_info": {
   "codemirror_mode": {
    "name": "ipython",
    "version": 2
   },
   "file_extension": ".py",
   "mimetype": "text/x-python",
   "name": "python",
   "nbconvert_exporter": "python",
   "pygments_lexer": "ipython2",
   "version": "2.7.6"
  }
 },
 "nbformat": 4,
 "nbformat_minor": 5
}
